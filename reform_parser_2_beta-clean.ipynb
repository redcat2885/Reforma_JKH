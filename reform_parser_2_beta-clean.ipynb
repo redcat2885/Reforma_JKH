{
 "cells": [
  {
   "cell_type": "code",
   "execution_count": null,
   "metadata": {},
   "outputs": [],
   "source": [
    "import requests\n",
    "import pandas as pd\n",
    "import json\n",
    "import numpy as np\n",
    "data_reform = pd.read_csv(# data_path,\n",
    "                            delimiter =';')"
   ]
  },
  {
   "cell_type": "code",
   "execution_count": null,
   "metadata": {},
   "outputs": [],
   "source": [
    "data = data_reform.copy()\n",
    "data['wkt_geometry']=np.nan"
   ]
  },
  {
   "cell_type": "code",
   "execution_count": null,
   "metadata": {},
   "outputs": [],
   "source": [
    "#data.head(5)"
   ]
  },
  {
   "cell_type": "code",
   "execution_count": null,
   "metadata": {},
   "outputs": [],
   "source": [
    "#data"
   ]
  },
  {
   "cell_type": "code",
   "execution_count": null,
   "metadata": {},
   "outputs": [],
   "source": [
    "#print(len(data))"
   ]
  },
  {
   "cell_type": "code",
   "execution_count": null,
   "metadata": {},
   "outputs": [],
   "source": [
    "for i in range(len(data)):\n",
    "    querry = data['address'].iloc[i]\n",
    "    querry=querry.replace('д. ','')\n",
    "    querry=querry.replace('г. ','')\n",
    "    request = requests.get('https://api.mapbox.com/geocoding/v5/mapbox.places/'+str(querry)+'.json?limit=1&types=address&access_token='# API token)\n",
    "    print(str(querry)+' = '+str(request.status_code))\n",
    "    if request.status_code == 200:\n",
    "        json_parse = json.loads(request.text)\n",
    "        coord = json_parse['features']\n",
    "        if len(coord) > 0:\n",
    "            coord = coord[0]\n",
    "            coord = coord['center']\n",
    "            lon=coord[0]\n",
    "            lat=coord[1]\n",
    "            data['wkt_geometry'].iloc[i]= 'POINT '+'('+str(lon) +' '+ str(lat)+')'"
   ]
  },
  {
   "cell_type": "code",
   "execution_count": null,
   "metadata": {},
   "outputs": [],
   "source": [
    "data.to_csv(# your_address,\n",
    "            sep=';')"
   ]
  }
 ],
 "metadata": {
  "kernelspec": {
   "display_name": "Python 3",
   "language": "python",
   "name": "python3"
  },
  "language_info": {
   "codemirror_mode": {
    "name": "ipython",
    "version": 3
   },
   "file_extension": ".py",
   "mimetype": "text/x-python",
   "name": "python",
   "nbconvert_exporter": "python",
   "pygments_lexer": "ipython3",
   "version": "3.7.6"
  }
 },
 "nbformat": 4,
 "nbformat_minor": 4
}
